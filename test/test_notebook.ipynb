{
 "metadata": {
  "language_info": {
   "codemirror_mode": {
    "name": "ipython",
    "version": 3
   },
   "file_extension": ".py",
   "mimetype": "text/x-python",
   "name": "python",
   "nbconvert_exporter": "python",
   "pygments_lexer": "ipython3",
   "version": "3.8.8"
  },
  "orig_nbformat": 2,
  "kernelspec": {
   "name": "python388jvsc74a57bd0d64209563e81cda004d8f4a5f21f7ca0b36a72eae48b1983ca7b63dc38f83d77",
   "display_name": "Python 3.8.8 64-bit ('base': conda)"
  }
 },
 "nbformat": 4,
 "nbformat_minor": 2,
 "cells": [
  {
   "cell_type": "code",
   "execution_count": 1,
   "metadata": {},
   "outputs": [],
   "source": [
    "a = [1,4,3,45,525,225,5453]"
   ]
  },
  {
   "cell_type": "code",
   "execution_count": 3,
   "metadata": {},
   "outputs": [
    {
     "output_type": "execute_result",
     "data": {
      "text/plain": [
       "[5453, 525, 225, 45, 4, 3, 1]"
      ]
     },
     "metadata": {},
     "execution_count": 3
    }
   ],
   "source": [
    "sorted(a, reverse=True)"
   ]
  },
  {
   "cell_type": "code",
   "execution_count": 1,
   "metadata": {},
   "outputs": [],
   "source": [
    "import random\n",
    "import numpy as np"
   ]
  },
  {
   "cell_type": "code",
   "execution_count": 8,
   "metadata": {},
   "outputs": [
    {
     "output_type": "execute_result",
     "data": {
      "text/plain": [
       "(array([ 0.00394987, -0.00243043,  0.00041833]),\n",
       " array([ 1.97493333, -1.2152147 ,  0.20916575]))"
      ]
     },
     "metadata": {},
     "execution_count": 8
    }
   ],
   "source": [
    "a = np.random.randn(3)\n",
    "0.002*a,a"
   ]
  },
  {
   "cell_type": "code",
   "execution_count": 2,
   "metadata": {},
   "outputs": [
    {
     "output_type": "error",
     "ename": "AttributeError",
     "evalue": "module 'random' has no attribute 'ragendint'",
     "traceback": [
      "\u001b[1;31m---------------------------------------------------------------------------\u001b[0m",
      "\u001b[1;31mAttributeError\u001b[0m                            Traceback (most recent call last)",
      "\u001b[1;32m<ipython-input-2-e456b65f5a49>\u001b[0m in \u001b[0;36m<module>\u001b[1;34m\u001b[0m\n\u001b[1;32m----> 1\u001b[1;33m \u001b[0mrandom\u001b[0m\u001b[1;33m.\u001b[0m\u001b[0mragendint\u001b[0m\u001b[1;33m(\u001b[0m\u001b[1;36m0\u001b[0m\u001b[1;33m,\u001b[0m\u001b[0mlen\u001b[0m\u001b[1;33m(\u001b[0m\u001b[1;33m[\u001b[0m\u001b[1;36m1\u001b[0m\u001b[1;33m,\u001b[0m\u001b[1;36m23\u001b[0m\u001b[1;33m,\u001b[0m\u001b[1;36m4\u001b[0m\u001b[1;33m,\u001b[0m\u001b[1;36m535\u001b[0m\u001b[1;33m,\u001b[0m\u001b[1;36m3\u001b[0m\u001b[1;33m]\u001b[0m\u001b[1;33m)\u001b[0m\u001b[1;33m-\u001b[0m\u001b[1;36m1\u001b[0m\u001b[1;33m)\u001b[0m\u001b[1;33m\u001b[0m\u001b[1;33m\u001b[0m\u001b[0m\n\u001b[0m",
      "\u001b[1;31mAttributeError\u001b[0m: module 'random' has no attribute 'ragendint'"
     ]
    }
   ],
   "source": [
    "random.ragendint(0,len([1,23,4,535,3])-1)"
   ]
  },
  {
   "cell_type": "code",
   "execution_count": 6,
   "metadata": {},
   "outputs": [],
   "source": [
    "network = [[11+2, 6 ,\"sigmoid\"],[6,4,\"sigmoid\"], [4,4, \"sigmoid\"]]\n",
    "weights = []\n",
    "for layer in network:\n",
    "    input_size = layer[0]\n",
    "    output_size = layer[1]\n",
    "    activation = layer[2]\n",
    "    weights.append(np.random.randn(input_size,output_size))"
   ]
  },
  {
   "cell_type": "code",
   "execution_count": 12,
   "metadata": {},
   "outputs": [
    {
     "output_type": "execute_result",
     "data": {
      "text/plain": [
       "array([-0.36580826, -2.69300439,  1.78231295,  0.0377801 , -0.32579438,\n",
       "       -1.11776612,  0.94911916, -0.6610009 ,  0.87212999, -1.37984281,\n",
       "       -0.56589898, -0.1291798 ,  0.85454533,  0.5020372 ,  0.03681206,\n",
       "       -0.66801851,  0.31760029, -1.72046832,  0.57140739, -0.40614214,\n",
       "       -1.50385317,  0.60346097, -0.35034499, -0.67187311, -0.94698324,\n",
       "       -0.66984935,  1.08957341,  1.10341665, -2.37806981, -0.48148105,\n",
       "        0.62354992, -0.45346036, -1.18776089,  1.8531738 , -0.36552082,\n",
       "        2.10200754,  1.58529077, -0.27215287, -1.1352818 ,  0.68534514,\n",
       "       -0.08998139,  0.51180141,  0.5345903 , -0.85825018, -0.62701073,\n",
       "       -0.66909209,  0.23506473,  0.04640428, -0.55330955,  0.3914278 ,\n",
       "        0.6859138 ,  0.40659431,  0.84958715,  0.60361064, -1.52870027,\n",
       "        0.00769147,  0.19552436,  0.21671186,  0.06646949, -0.68607488,\n",
       "       -0.28447317,  0.220242  , -1.48612051,  0.92573522, -0.23295503,\n",
       "       -1.13342423, -0.20449506, -0.58251444, -1.16596848, -0.20601709,\n",
       "        1.45002411,  0.08314847,  1.26578605, -0.50509485, -1.05352519,\n",
       "       -0.25021758,  0.20548905, -0.23976267])"
      ]
     },
     "metadata": {},
     "execution_count": 12
    }
   ],
   "source": [
    "weights[0].flatten()"
   ]
  },
  {
   "cell_type": "code",
   "execution_count": 53,
   "metadata": {},
   "outputs": [
    {
     "output_type": "execute_result",
     "data": {
      "text/plain": [
       "0"
      ]
     },
     "metadata": {},
     "execution_count": 53
    }
   ],
   "source": [
    "np.random.randint(2)"
   ]
  },
  {
   "cell_type": "code",
   "execution_count": 60,
   "metadata": {},
   "outputs": [
    {
     "output_type": "execute_result",
     "data": {
      "text/plain": [
       "0.6847181885580201"
      ]
     },
     "metadata": {},
     "execution_count": 60
    }
   ],
   "source": [
    "random.uniform(0.0, 1.0)"
   ]
  },
  {
   "cell_type": "code",
   "execution_count": 3,
   "metadata": {},
   "outputs": [],
   "source": [
    "import random"
   ]
  },
  {
   "cell_type": "code",
   "execution_count": 14,
   "metadata": {},
   "outputs": [
    {
     "output_type": "execute_result",
     "data": {
      "text/plain": [
       "4"
      ]
     },
     "metadata": {},
     "execution_count": 14
    }
   ],
   "source": [
    "random.randint(3, 5)"
   ]
  },
  {
   "cell_type": "code",
   "execution_count": 16,
   "metadata": {},
   "outputs": [
    {
     "output_type": "execute_result",
     "data": {
      "text/plain": [
       "[2, 3, 45, 6, 3, 4, 56, 464, 3]"
      ]
     },
     "metadata": {},
     "execution_count": 16
    }
   ],
   "source": [
    "a = [2,3,45,6]\n",
    "b = [3,4,56,464,3]\n",
    "a + b"
   ]
  },
  {
   "cell_type": "code",
   "execution_count": 5,
   "metadata": {},
   "outputs": [
    {
     "output_type": "execute_result",
     "data": {
      "text/plain": [
       "[array([[5.30463127, 5.27895906, 5.49025796, 4.96944332],\n",
       "        [5.26606418, 4.90363382, 5.34611353, 2.91708045],\n",
       "        [4.54809898, 4.52328356, 5.3881428 , 4.89026995],\n",
       "        [3.56580646, 5.09091218, 2.49067085, 4.8703963 ],\n",
       "        [5.59734675, 5.5329195 , 4.83135577, 3.77135452],\n",
       "        [4.78078994, 4.01437762, 5.78238036, 4.17513086],\n",
       "        [5.0962916 , 6.30160892, 5.09740685, 3.55734566],\n",
       "        [3.94671852, 3.02557545, 5.72372979, 5.42274675],\n",
       "        [5.67006636, 6.19025681, 5.15971895, 5.75621903],\n",
       "        [2.82508281, 4.53348282, 5.59815659, 4.15709937]])]"
      ]
     },
     "metadata": {},
     "execution_count": 5
    }
   ],
   "source": [
    "weights = []\n",
    "weights.append(np.random.randn(10,4))\n",
    "weights"
   ]
  },
  {
   "cell_type": "code",
   "execution_count": 7,
   "metadata": {},
   "outputs": [
    {
     "output_type": "execute_result",
     "data": {
      "text/plain": [
       "array([[1., 2.],\n",
       "       [1., 2.],\n",
       "       [1., 2.]])"
      ]
     },
     "metadata": {},
     "execution_count": 7
    }
   ],
   "source": [
    "np.array([1,2])*np.ones((3,2))"
   ]
  },
  {
   "cell_type": "code",
   "execution_count": 2,
   "metadata": {},
   "outputs": [
    {
     "output_type": "execute_result",
     "data": {
      "text/plain": [
       "array([1.00000e+00, 2.00000e+00, 3.00000e+00, 4.00000e+00, 5.22500e+03,\n",
       "       4.23432e+05, 0.00000e+00, 0.00000e+00, 0.00000e+00, 0.00000e+00])"
      ]
     },
     "metadata": {},
     "execution_count": 2
    }
   ],
   "source": [
    "data = np.array([1,2,3,4,5225,423432,0,-452,-5252,-52354])\n",
    "np.maximum(data, np.zeros(data.shape))"
   ]
  },
  {
   "cell_type": "code",
   "execution_count": 3,
   "metadata": {},
   "outputs": [
    {
     "output_type": "execute_result",
     "data": {
      "text/plain": [
       "[2.0, 2.5, 3.0, 3.5, 4.0, 4.5]"
      ]
     },
     "metadata": {},
     "execution_count": 3
    }
   ],
   "source": [
    "import numpy as np\n",
    "list(np.arange(2,5,0.5))"
   ]
  },
  {
   "cell_type": "code",
   "execution_count": 3,
   "metadata": {},
   "outputs": [],
   "source": [
    "import numpy as np\n",
    "import matplotlib.pyplot as plt"
   ]
  },
  {
   "cell_type": "code",
   "execution_count": 6,
   "metadata": {},
   "outputs": [],
   "source": [
    "cost_array = np.loadtxt('cost_array.csv', dtype=int, delimiter=',')\n",
    "collision_array = np.loadtxt('collision_array.csv', dtype=int, delimiter=',')"
   ]
  },
  {
   "cell_type": "code",
   "execution_count": 7,
   "metadata": {},
   "outputs": [
    {
     "output_type": "display_data",
     "data": {
      "text/plain": "<Figure size 443.077x288 with 1 Axes>",
      "image/svg+xml": "<?xml version=\"1.0\" encoding=\"utf-8\" standalone=\"no\"?>\r\n<!DOCTYPE svg PUBLIC \"-//W3C//DTD SVG 1.1//EN\"\r\n  \"http://www.w3.org/Graphics/SVG/1.1/DTD/svg11.dtd\">\r\n<!-- Created with matplotlib (https://matplotlib.org/) -->\r\n<svg height=\"257.778125pt\" version=\"1.1\" viewBox=\"0 0 383.872115 257.778125\" width=\"383.872115pt\" xmlns=\"http://www.w3.org/2000/svg\" xmlns:xlink=\"http://www.w3.org/1999/xlink\">\r\n <metadata>\r\n  <rdf:RDF xmlns:cc=\"http://creativecommons.org/ns#\" xmlns:dc=\"http://purl.org/dc/elements/1.1/\" xmlns:rdf=\"http://www.w3.org/1999/02/22-rdf-syntax-ns#\">\r\n   <cc:Work>\r\n    <dc:type rdf:resource=\"http://purl.org/dc/dcmitype/StillImage\"/>\r\n    <dc:date>2021-05-29T23:55:09.945905</dc:date>\r\n    <dc:format>image/svg+xml</dc:format>\r\n    <dc:creator>\r\n     <cc:Agent>\r\n      <dc:title>Matplotlib v3.3.4, https://matplotlib.org/</dc:title>\r\n     </cc:Agent>\r\n    </dc:creator>\r\n   </cc:Work>\r\n  </rdf:RDF>\r\n </metadata>\r\n <defs>\r\n  <style type=\"text/css\">*{stroke-linecap:butt;stroke-linejoin:round;}</style>\r\n </defs>\r\n <g id=\"figure_1\">\r\n  <g id=\"patch_1\">\r\n   <path d=\"M 0 257.778125 \r\nL 383.872115 257.778125 \r\nL 383.872115 0 \r\nL 0 0 \r\nz\r\n\" style=\"fill:none;\"/>\r\n  </g>\r\n  <g id=\"axes_1\">\r\n   <g id=\"patch_2\">\r\n    <path d=\"M 33.2875 247.078125 \r\nL 376.672115 247.078125 \r\nL 376.672115 23.878125 \r\nL 33.2875 23.878125 \r\nz\r\n\" style=\"fill:#ffffff;\"/>\r\n   </g>\r\n   <g clip-path=\"url(#p5b6c67361c)\">\r\n    <image height=\"224\" id=\"image651b992475\" transform=\"scale(1 -1)translate(0 -224)\" width=\"344\" x=\"33.2875\" xlink:href=\"data:image/png;base64,\r\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\" y=\"-23.078125\"/>\r\n   </g>\r\n   <g id=\"matplotlib.axis_1\">\r\n    <g id=\"xtick_1\">\r\n     <g id=\"line2d_1\">\r\n      <defs>\r\n       <path d=\"M 0 0 \r\nL 0 3.5 \r\n\" id=\"mbd39ab6679\" style=\"stroke:#000000;stroke-width:0.8;\"/>\r\n      </defs>\r\n      <g>\r\n       <use style=\"stroke:#000000;stroke-width:0.8;\" x=\"33.459192\" xlink:href=\"#mbd39ab6679\" y=\"247.078125\"/>\r\n      </g>\r\n     </g>\r\n     <g id=\"line2d_2\">\r\n      <defs>\r\n       <path d=\"M 0 0 \r\nL 0 -3.5 \r\n\" id=\"m6b4e106ff7\" style=\"stroke:#000000;stroke-width:0.8;\"/>\r\n      </defs>\r\n      <g>\r\n       <use style=\"stroke:#000000;stroke-width:0.8;\" x=\"33.459192\" xlink:href=\"#m6b4e106ff7\" y=\"23.878125\"/>\r\n      </g>\r\n     </g>\r\n     <g id=\"text_1\">\r\n      <!-- 0 -->\r\n      <g transform=\"translate(30.277942 14.798438)scale(0.1 -0.1)\">\r\n       <defs>\r\n        <path d=\"M 31.78125 66.40625 \r\nQ 24.171875 66.40625 20.328125 58.90625 \r\nQ 16.5 51.421875 16.5 36.375 \r\nQ 16.5 21.390625 20.328125 13.890625 \r\nQ 24.171875 6.390625 31.78125 6.390625 \r\nQ 39.453125 6.390625 43.28125 13.890625 \r\nQ 47.125 21.390625 47.125 36.375 \r\nQ 47.125 51.421875 43.28125 58.90625 \r\nQ 39.453125 66.40625 31.78125 66.40625 \r\nz\r\nM 31.78125 74.21875 \r\nQ 44.046875 74.21875 50.515625 64.515625 \r\nQ 56.984375 54.828125 56.984375 36.375 \r\nQ 56.984375 17.96875 50.515625 8.265625 \r\nQ 44.046875 -1.421875 31.78125 -1.421875 \r\nQ 19.53125 -1.421875 13.0625 8.265625 \r\nQ 6.59375 17.96875 6.59375 36.375 \r\nQ 6.59375 54.828125 13.0625 64.515625 \r\nQ 19.53125 74.21875 31.78125 74.21875 \r\nz\r\n\" id=\"DejaVuSans-48\"/>\r\n       </defs>\r\n       <use xlink:href=\"#DejaVuSans-48\"/>\r\n      </g>\r\n     </g>\r\n    </g>\r\n    <g id=\"xtick_2\">\r\n     <g id=\"line2d_3\">\r\n      <g>\r\n       <use style=\"stroke:#000000;stroke-width:0.8;\" x=\"102.136115\" xlink:href=\"#mbd39ab6679\" y=\"247.078125\"/>\r\n      </g>\r\n     </g>\r\n     <g id=\"line2d_4\">\r\n      <g>\r\n       <use style=\"stroke:#000000;stroke-width:0.8;\" x=\"102.136115\" xlink:href=\"#m6b4e106ff7\" y=\"23.878125\"/>\r\n      </g>\r\n     </g>\r\n     <g id=\"text_2\">\r\n      <!-- 200 -->\r\n      <g transform=\"translate(92.592365 14.798438)scale(0.1 -0.1)\">\r\n       <defs>\r\n        <path d=\"M 19.1875 8.296875 \r\nL 53.609375 8.296875 \r\nL 53.609375 0 \r\nL 7.328125 0 \r\nL 7.328125 8.296875 \r\nQ 12.9375 14.109375 22.625 23.890625 \r\nQ 32.328125 33.6875 34.8125 36.53125 \r\nQ 39.546875 41.84375 41.421875 45.53125 \r\nQ 43.3125 49.21875 43.3125 52.78125 \r\nQ 43.3125 58.59375 39.234375 62.25 \r\nQ 35.15625 65.921875 28.609375 65.921875 \r\nQ 23.96875 65.921875 18.8125 64.3125 \r\nQ 13.671875 62.703125 7.8125 59.421875 \r\nL 7.8125 69.390625 \r\nQ 13.765625 71.78125 18.9375 73 \r\nQ 24.125 74.21875 28.421875 74.21875 \r\nQ 39.75 74.21875 46.484375 68.546875 \r\nQ 53.21875 62.890625 53.21875 53.421875 \r\nQ 53.21875 48.921875 51.53125 44.890625 \r\nQ 49.859375 40.875 45.40625 35.40625 \r\nQ 44.1875 33.984375 37.640625 27.21875 \r\nQ 31.109375 20.453125 19.1875 8.296875 \r\nz\r\n\" id=\"DejaVuSans-50\"/>\r\n       </defs>\r\n       <use xlink:href=\"#DejaVuSans-50\"/>\r\n       <use x=\"63.623047\" xlink:href=\"#DejaVuSans-48\"/>\r\n       <use x=\"127.246094\" xlink:href=\"#DejaVuSans-48\"/>\r\n      </g>\r\n     </g>\r\n    </g>\r\n    <g id=\"xtick_3\">\r\n     <g id=\"line2d_5\">\r\n      <g>\r\n       <use style=\"stroke:#000000;stroke-width:0.8;\" x=\"170.813038\" xlink:href=\"#mbd39ab6679\" y=\"247.078125\"/>\r\n      </g>\r\n     </g>\r\n     <g id=\"line2d_6\">\r\n      <g>\r\n       <use style=\"stroke:#000000;stroke-width:0.8;\" x=\"170.813038\" xlink:href=\"#m6b4e106ff7\" y=\"23.878125\"/>\r\n      </g>\r\n     </g>\r\n     <g id=\"text_3\">\r\n      <!-- 400 -->\r\n      <g transform=\"translate(161.269288 14.798438)scale(0.1 -0.1)\">\r\n       <defs>\r\n        <path d=\"M 37.796875 64.3125 \r\nL 12.890625 25.390625 \r\nL 37.796875 25.390625 \r\nz\r\nM 35.203125 72.90625 \r\nL 47.609375 72.90625 \r\nL 47.609375 25.390625 \r\nL 58.015625 25.390625 \r\nL 58.015625 17.1875 \r\nL 47.609375 17.1875 \r\nL 47.609375 0 \r\nL 37.796875 0 \r\nL 37.796875 17.1875 \r\nL 4.890625 17.1875 \r\nL 4.890625 26.703125 \r\nz\r\n\" id=\"DejaVuSans-52\"/>\r\n       </defs>\r\n       <use xlink:href=\"#DejaVuSans-52\"/>\r\n       <use x=\"63.623047\" xlink:href=\"#DejaVuSans-48\"/>\r\n       <use x=\"127.246094\" xlink:href=\"#DejaVuSans-48\"/>\r\n      </g>\r\n     </g>\r\n    </g>\r\n    <g id=\"xtick_4\">\r\n     <g id=\"line2d_7\">\r\n      <g>\r\n       <use style=\"stroke:#000000;stroke-width:0.8;\" x=\"239.489962\" xlink:href=\"#mbd39ab6679\" y=\"247.078125\"/>\r\n      </g>\r\n     </g>\r\n     <g id=\"line2d_8\">\r\n      <g>\r\n       <use style=\"stroke:#000000;stroke-width:0.8;\" x=\"239.489962\" xlink:href=\"#m6b4e106ff7\" y=\"23.878125\"/>\r\n      </g>\r\n     </g>\r\n     <g id=\"text_4\">\r\n      <!-- 600 -->\r\n      <g transform=\"translate(229.946212 14.798438)scale(0.1 -0.1)\">\r\n       <defs>\r\n        <path d=\"M 33.015625 40.375 \r\nQ 26.375 40.375 22.484375 35.828125 \r\nQ 18.609375 31.296875 18.609375 23.390625 \r\nQ 18.609375 15.53125 22.484375 10.953125 \r\nQ 26.375 6.390625 33.015625 6.390625 \r\nQ 39.65625 6.390625 43.53125 10.953125 \r\nQ 47.40625 15.53125 47.40625 23.390625 \r\nQ 47.40625 31.296875 43.53125 35.828125 \r\nQ 39.65625 40.375 33.015625 40.375 \r\nz\r\nM 52.59375 71.296875 \r\nL 52.59375 62.3125 \r\nQ 48.875 64.0625 45.09375 64.984375 \r\nQ 41.3125 65.921875 37.59375 65.921875 \r\nQ 27.828125 65.921875 22.671875 59.328125 \r\nQ 17.53125 52.734375 16.796875 39.40625 \r\nQ 19.671875 43.65625 24.015625 45.921875 \r\nQ 28.375 48.1875 33.59375 48.1875 \r\nQ 44.578125 48.1875 50.953125 41.515625 \r\nQ 57.328125 34.859375 57.328125 23.390625 \r\nQ 57.328125 12.15625 50.6875 5.359375 \r\nQ 44.046875 -1.421875 33.015625 -1.421875 \r\nQ 20.359375 -1.421875 13.671875 8.265625 \r\nQ 6.984375 17.96875 6.984375 36.375 \r\nQ 6.984375 53.65625 15.1875 63.9375 \r\nQ 23.390625 74.21875 37.203125 74.21875 \r\nQ 40.921875 74.21875 44.703125 73.484375 \r\nQ 48.484375 72.75 52.59375 71.296875 \r\nz\r\n\" id=\"DejaVuSans-54\"/>\r\n       </defs>\r\n       <use xlink:href=\"#DejaVuSans-54\"/>\r\n       <use x=\"63.623047\" xlink:href=\"#DejaVuSans-48\"/>\r\n       <use x=\"127.246094\" xlink:href=\"#DejaVuSans-48\"/>\r\n      </g>\r\n     </g>\r\n    </g>\r\n    <g id=\"xtick_5\">\r\n     <g id=\"line2d_9\">\r\n      <g>\r\n       <use style=\"stroke:#000000;stroke-width:0.8;\" x=\"308.166885\" xlink:href=\"#mbd39ab6679\" y=\"247.078125\"/>\r\n      </g>\r\n     </g>\r\n     <g id=\"line2d_10\">\r\n      <g>\r\n       <use style=\"stroke:#000000;stroke-width:0.8;\" x=\"308.166885\" xlink:href=\"#m6b4e106ff7\" y=\"23.878125\"/>\r\n      </g>\r\n     </g>\r\n     <g id=\"text_5\">\r\n      <!-- 800 -->\r\n      <g transform=\"translate(298.623135 14.798438)scale(0.1 -0.1)\">\r\n       <defs>\r\n        <path d=\"M 31.78125 34.625 \r\nQ 24.75 34.625 20.71875 30.859375 \r\nQ 16.703125 27.09375 16.703125 20.515625 \r\nQ 16.703125 13.921875 20.71875 10.15625 \r\nQ 24.75 6.390625 31.78125 6.390625 \r\nQ 38.8125 6.390625 42.859375 10.171875 \r\nQ 46.921875 13.96875 46.921875 20.515625 \r\nQ 46.921875 27.09375 42.890625 30.859375 \r\nQ 38.875 34.625 31.78125 34.625 \r\nz\r\nM 21.921875 38.8125 \r\nQ 15.578125 40.375 12.03125 44.71875 \r\nQ 8.5 49.078125 8.5 55.328125 \r\nQ 8.5 64.0625 14.71875 69.140625 \r\nQ 20.953125 74.21875 31.78125 74.21875 \r\nQ 42.671875 74.21875 48.875 69.140625 \r\nQ 55.078125 64.0625 55.078125 55.328125 \r\nQ 55.078125 49.078125 51.53125 44.71875 \r\nQ 48 40.375 41.703125 38.8125 \r\nQ 48.828125 37.15625 52.796875 32.3125 \r\nQ 56.78125 27.484375 56.78125 20.515625 \r\nQ 56.78125 9.90625 50.3125 4.234375 \r\nQ 43.84375 -1.421875 31.78125 -1.421875 \r\nQ 19.734375 -1.421875 13.25 4.234375 \r\nQ 6.78125 9.90625 6.78125 20.515625 \r\nQ 6.78125 27.484375 10.78125 32.3125 \r\nQ 14.796875 37.15625 21.921875 38.8125 \r\nz\r\nM 18.3125 54.390625 \r\nQ 18.3125 48.734375 21.84375 45.5625 \r\nQ 25.390625 42.390625 31.78125 42.390625 \r\nQ 38.140625 42.390625 41.71875 45.5625 \r\nQ 45.3125 48.734375 45.3125 54.390625 \r\nQ 45.3125 60.0625 41.71875 63.234375 \r\nQ 38.140625 66.40625 31.78125 66.40625 \r\nQ 25.390625 66.40625 21.84375 63.234375 \r\nQ 18.3125 60.0625 18.3125 54.390625 \r\nz\r\n\" id=\"DejaVuSans-56\"/>\r\n       </defs>\r\n       <use xlink:href=\"#DejaVuSans-56\"/>\r\n       <use x=\"63.623047\" xlink:href=\"#DejaVuSans-48\"/>\r\n       <use x=\"127.246094\" xlink:href=\"#DejaVuSans-48\"/>\r\n      </g>\r\n     </g>\r\n    </g>\r\n   </g>\r\n   <g id=\"matplotlib.axis_2\">\r\n    <g id=\"ytick_1\">\r\n     <g id=\"line2d_11\">\r\n      <defs>\r\n       <path d=\"M 0 0 \r\nL -3.5 0 \r\n\" id=\"m90c6ed3724\" style=\"stroke:#000000;stroke-width:0.8;\"/>\r\n      </defs>\r\n      <g>\r\n       <use style=\"stroke:#000000;stroke-width:0.8;\" x=\"33.2875\" xlink:href=\"#m90c6ed3724\" y=\"24.049817\"/>\r\n      </g>\r\n     </g>\r\n     <g id=\"text_6\">\r\n      <!-- 0 -->\r\n      <g transform=\"translate(19.925 27.849036)scale(0.1 -0.1)\">\r\n       <use xlink:href=\"#DejaVuSans-48\"/>\r\n      </g>\r\n     </g>\r\n    </g>\r\n    <g id=\"ytick_2\">\r\n     <g id=\"line2d_12\">\r\n      <g>\r\n       <use style=\"stroke:#000000;stroke-width:0.8;\" x=\"33.2875\" xlink:href=\"#m90c6ed3724\" y=\"58.388279\"/>\r\n      </g>\r\n     </g>\r\n     <g id=\"text_7\">\r\n      <!-- 100 -->\r\n      <g transform=\"translate(7.2 62.187498)scale(0.1 -0.1)\">\r\n       <defs>\r\n        <path d=\"M 12.40625 8.296875 \r\nL 28.515625 8.296875 \r\nL 28.515625 63.921875 \r\nL 10.984375 60.40625 \r\nL 10.984375 69.390625 \r\nL 28.421875 72.90625 \r\nL 38.28125 72.90625 \r\nL 38.28125 8.296875 \r\nL 54.390625 8.296875 \r\nL 54.390625 0 \r\nL 12.40625 0 \r\nz\r\n\" id=\"DejaVuSans-49\"/>\r\n       </defs>\r\n       <use xlink:href=\"#DejaVuSans-49\"/>\r\n       <use x=\"63.623047\" xlink:href=\"#DejaVuSans-48\"/>\r\n       <use x=\"127.246094\" xlink:href=\"#DejaVuSans-48\"/>\r\n      </g>\r\n     </g>\r\n    </g>\r\n    <g id=\"ytick_3\">\r\n     <g id=\"line2d_13\">\r\n      <g>\r\n       <use style=\"stroke:#000000;stroke-width:0.8;\" x=\"33.2875\" xlink:href=\"#m90c6ed3724\" y=\"92.72674\"/>\r\n      </g>\r\n     </g>\r\n     <g id=\"text_8\">\r\n      <!-- 200 -->\r\n      <g transform=\"translate(7.2 96.525959)scale(0.1 -0.1)\">\r\n       <use xlink:href=\"#DejaVuSans-50\"/>\r\n       <use x=\"63.623047\" xlink:href=\"#DejaVuSans-48\"/>\r\n       <use x=\"127.246094\" xlink:href=\"#DejaVuSans-48\"/>\r\n      </g>\r\n     </g>\r\n    </g>\r\n    <g id=\"ytick_4\">\r\n     <g id=\"line2d_14\">\r\n      <g>\r\n       <use style=\"stroke:#000000;stroke-width:0.8;\" x=\"33.2875\" xlink:href=\"#m90c6ed3724\" y=\"127.065202\"/>\r\n      </g>\r\n     </g>\r\n     <g id=\"text_9\">\r\n      <!-- 300 -->\r\n      <g transform=\"translate(7.2 130.864421)scale(0.1 -0.1)\">\r\n       <defs>\r\n        <path d=\"M 40.578125 39.3125 \r\nQ 47.65625 37.796875 51.625 33 \r\nQ 55.609375 28.21875 55.609375 21.1875 \r\nQ 55.609375 10.40625 48.1875 4.484375 \r\nQ 40.765625 -1.421875 27.09375 -1.421875 \r\nQ 22.515625 -1.421875 17.65625 -0.515625 \r\nQ 12.796875 0.390625 7.625 2.203125 \r\nL 7.625 11.71875 \r\nQ 11.71875 9.328125 16.59375 8.109375 \r\nQ 21.484375 6.890625 26.8125 6.890625 \r\nQ 36.078125 6.890625 40.9375 10.546875 \r\nQ 45.796875 14.203125 45.796875 21.1875 \r\nQ 45.796875 27.640625 41.28125 31.265625 \r\nQ 36.765625 34.90625 28.71875 34.90625 \r\nL 20.21875 34.90625 \r\nL 20.21875 43.015625 \r\nL 29.109375 43.015625 \r\nQ 36.375 43.015625 40.234375 45.921875 \r\nQ 44.09375 48.828125 44.09375 54.296875 \r\nQ 44.09375 59.90625 40.109375 62.90625 \r\nQ 36.140625 65.921875 28.71875 65.921875 \r\nQ 24.65625 65.921875 20.015625 65.03125 \r\nQ 15.375 64.15625 9.8125 62.3125 \r\nL 9.8125 71.09375 \r\nQ 15.4375 72.65625 20.34375 73.4375 \r\nQ 25.25 74.21875 29.59375 74.21875 \r\nQ 40.828125 74.21875 47.359375 69.109375 \r\nQ 53.90625 64.015625 53.90625 55.328125 \r\nQ 53.90625 49.265625 50.4375 45.09375 \r\nQ 46.96875 40.921875 40.578125 39.3125 \r\nz\r\n\" id=\"DejaVuSans-51\"/>\r\n       </defs>\r\n       <use xlink:href=\"#DejaVuSans-51\"/>\r\n       <use x=\"63.623047\" xlink:href=\"#DejaVuSans-48\"/>\r\n       <use x=\"127.246094\" xlink:href=\"#DejaVuSans-48\"/>\r\n      </g>\r\n     </g>\r\n    </g>\r\n    <g id=\"ytick_5\">\r\n     <g id=\"line2d_15\">\r\n      <g>\r\n       <use style=\"stroke:#000000;stroke-width:0.8;\" x=\"33.2875\" xlink:href=\"#m90c6ed3724\" y=\"161.403663\"/>\r\n      </g>\r\n     </g>\r\n     <g id=\"text_10\">\r\n      <!-- 400 -->\r\n      <g transform=\"translate(7.2 165.202882)scale(0.1 -0.1)\">\r\n       <use xlink:href=\"#DejaVuSans-52\"/>\r\n       <use x=\"63.623047\" xlink:href=\"#DejaVuSans-48\"/>\r\n       <use x=\"127.246094\" xlink:href=\"#DejaVuSans-48\"/>\r\n      </g>\r\n     </g>\r\n    </g>\r\n    <g id=\"ytick_6\">\r\n     <g id=\"line2d_16\">\r\n      <g>\r\n       <use style=\"stroke:#000000;stroke-width:0.8;\" x=\"33.2875\" xlink:href=\"#m90c6ed3724\" y=\"195.742125\"/>\r\n      </g>\r\n     </g>\r\n     <g id=\"text_11\">\r\n      <!-- 500 -->\r\n      <g transform=\"translate(7.2 199.541344)scale(0.1 -0.1)\">\r\n       <defs>\r\n        <path d=\"M 10.796875 72.90625 \r\nL 49.515625 72.90625 \r\nL 49.515625 64.59375 \r\nL 19.828125 64.59375 \r\nL 19.828125 46.734375 \r\nQ 21.96875 47.46875 24.109375 47.828125 \r\nQ 26.265625 48.1875 28.421875 48.1875 \r\nQ 40.625 48.1875 47.75 41.5 \r\nQ 54.890625 34.8125 54.890625 23.390625 \r\nQ 54.890625 11.625 47.5625 5.09375 \r\nQ 40.234375 -1.421875 26.90625 -1.421875 \r\nQ 22.3125 -1.421875 17.546875 -0.640625 \r\nQ 12.796875 0.140625 7.71875 1.703125 \r\nL 7.71875 11.625 \r\nQ 12.109375 9.234375 16.796875 8.0625 \r\nQ 21.484375 6.890625 26.703125 6.890625 \r\nQ 35.15625 6.890625 40.078125 11.328125 \r\nQ 45.015625 15.765625 45.015625 23.390625 \r\nQ 45.015625 31 40.078125 35.4375 \r\nQ 35.15625 39.890625 26.703125 39.890625 \r\nQ 22.75 39.890625 18.8125 39.015625 \r\nQ 14.890625 38.140625 10.796875 36.28125 \r\nz\r\n\" id=\"DejaVuSans-53\"/>\r\n       </defs>\r\n       <use xlink:href=\"#DejaVuSans-53\"/>\r\n       <use x=\"63.623047\" xlink:href=\"#DejaVuSans-48\"/>\r\n       <use x=\"127.246094\" xlink:href=\"#DejaVuSans-48\"/>\r\n      </g>\r\n     </g>\r\n    </g>\r\n    <g id=\"ytick_7\">\r\n     <g id=\"line2d_17\">\r\n      <g>\r\n       <use style=\"stroke:#000000;stroke-width:0.8;\" x=\"33.2875\" xlink:href=\"#m90c6ed3724\" y=\"230.080587\"/>\r\n      </g>\r\n     </g>\r\n     <g id=\"text_12\">\r\n      <!-- 600 -->\r\n      <g transform=\"translate(7.2 233.879805)scale(0.1 -0.1)\">\r\n       <use xlink:href=\"#DejaVuSans-54\"/>\r\n       <use x=\"63.623047\" xlink:href=\"#DejaVuSans-48\"/>\r\n       <use x=\"127.246094\" xlink:href=\"#DejaVuSans-48\"/>\r\n      </g>\r\n     </g>\r\n    </g>\r\n   </g>\r\n   <g id=\"patch_3\">\r\n    <path d=\"M 33.2875 247.078125 \r\nL 33.2875 23.878125 \r\n\" style=\"fill:none;stroke:#000000;stroke-linecap:square;stroke-linejoin:miter;stroke-width:0.8;\"/>\r\n   </g>\r\n   <g id=\"patch_4\">\r\n    <path d=\"M 376.672115 247.078125 \r\nL 376.672115 23.878125 \r\n\" style=\"fill:none;stroke:#000000;stroke-linecap:square;stroke-linejoin:miter;stroke-width:0.8;\"/>\r\n   </g>\r\n   <g id=\"patch_5\">\r\n    <path d=\"M 33.2875 247.078125 \r\nL 376.672115 247.078125 \r\n\" style=\"fill:none;stroke:#000000;stroke-linecap:square;stroke-linejoin:miter;stroke-width:0.8;\"/>\r\n   </g>\r\n   <g id=\"patch_6\">\r\n    <path d=\"M 33.2875 23.878125 \r\nL 376.672115 23.878125 \r\n\" style=\"fill:none;stroke:#000000;stroke-linecap:square;stroke-linejoin:miter;stroke-width:0.8;\"/>\r\n   </g>\r\n  </g>\r\n </g>\r\n <defs>\r\n  <clipPath id=\"p5b6c67361c\">\r\n   <rect height=\"223.2\" width=\"343.384615\" x=\"33.2875\" y=\"23.878125\"/>\r\n  </clipPath>\r\n </defs>\r\n</svg>\r\n",
      "image/png": "[encoded data removed]"
     },
     "metadata": {
      "needs_background": "light"
     }
    }
   ],
   "source": [
    "plt.matshow(collision_array.transpose())\n",
    "plt.show()"
   ]
  },
  {
   "cell_type": "code",
   "execution_count": null,
   "metadata": {},
   "outputs": [],
   "source": []
  },
  {
   "cell_type": "code",
   "execution_count": 18,
   "metadata": {},
   "outputs": [
    {
     "output_type": "execute_result",
     "data": {
      "text/plain": [
       "array([881, 881, 881, 881, 881, 881, 881, 881, 881, 881, 881, 881, 881,\n",
       "       881, 882, 883, 884, 885, 886, 887, 888, 889, 890, 891, 892, 893,\n",
       "       894, 895, 896, 897, 898, 899, 900, 901, 902, 903, 904, 905, 906,\n",
       "       907, 908, 909, 910, 911, 912, 913, 914, 915, 916, 917, 918, 919,\n",
       "       920, 921, 922, 923, 924, 925, 926, 927, 928, 929, 930, 931, 932,\n",
       "       933, 934, 935, 936, 937, 938, 939, 940, 941, 942, 943, 944, 945,\n",
       "       946, 947, 948, 949, 950, 951, 952, 953, 954, 955, 956, 957, 958,\n",
       "       959, 960, 961, 962, 963, 964, 965, 966, 967], dtype=int64)"
      ]
     },
     "metadata": {},
     "execution_count": 18
    }
   ],
   "source": [
    "\n",
    "(x, y) = np.where(cost_array == 2000)\n",
    "x"
   ]
  },
  {
   "cell_type": "code",
   "execution_count": 8,
   "metadata": {},
   "outputs": [],
   "source": [
    "import numpy as np\n",
    "import pandas as pd"
   ]
  },
  {
   "cell_type": "code",
   "execution_count": 11,
   "metadata": {},
   "outputs": [
    {
     "output_type": "execute_result",
     "data": {
      "text/plain": [
       "['best_players_29_May_2021_23_51_37.csv',\n",
       " 'best_players_30_May_2021_02_53_27.csv',\n",
       " 'collision_array.csv',\n",
       " 'cost_array.csv']"
      ]
     },
     "metadata": {},
     "execution_count": 11
    }
   ],
   "source": [
    "list_csv = os.listdir()\n",
    "csvs = [file for file in list_csv if '.csv' in file]\n",
    "csvs"
   ]
  },
  {
   "cell_type": "code",
   "execution_count": 14,
   "metadata": {},
   "outputs": [
    {
     "output_type": "execute_result",
     "data": {
      "text/plain": [
       "'best_players_30_May_2021_02_53_27.csv'"
      ]
     },
     "metadata": {},
     "execution_count": 14
    }
   ],
   "source": [
    "csvs = sorted(csvs)\n",
    "csvs[1]"
   ]
  },
  {
   "cell_type": "code",
   "execution_count": 16,
   "metadata": {},
   "outputs": [],
   "source": [
    "df = pd.read_csv(csvs[1])"
   ]
  },
  {
   "cell_type": "code",
   "execution_count": 32,
   "metadata": {},
   "outputs": [
    {
     "output_type": "execute_result",
     "data": {
      "text/plain": [
       "10"
      ]
     },
     "metadata": {},
     "execution_count": 32
    }
   ],
   "source": [
    "len(df)"
   ]
  },
  {
   "cell_type": "code",
   "execution_count": 28,
   "metadata": {},
   "outputs": [
    {
     "output_type": "execute_result",
     "data": {
      "text/plain": [
       "['-3.02703191',\n",
       " '0.71911131\\n',\n",
       " '0.19997398',\n",
       " '-0.61726443',\n",
       " '-1.64056273',\n",
       " '-0.37262235\\n',\n",
       " '-3.03297223',\n",
       " '1.18136973',\n",
       " '2.80331334',\n",
       " '-0.82735359\\n',\n",
       " '0.99282799',\n",
       " '2.42698282',\n",
       " '2.68202962',\n",
       " '3.10715524',\n",
       " '3.08196966',\n",
       " '2.32502087\\n',\n",
       " '-3.92034062',\n",
       " '-2.73257865',\n",
       " '1.63376082',\n",
       " '-5.07757812',\n",
       " '1.20432757',\n",
       " '0.63014413',\n",
       " '-0.39448572',\n",
       " '0.99721721',\n",
       " '-1.99505668',\n",
       " '-0.87400215',\n",
       " '-1.72917774',\n",
       " '-4.23200112',\n",
       " '2.05026588',\n",
       " '-3.71021089',\n",
       " '-1.81924039',\n",
       " '-0.65359494',\n",
       " '3.98508573\\n',\n",
       " '2.15973078\\n',\n",
       " '-1.57506799',\n",
       " '1.0397774',\n",
       " '0.47838877',\n",
       " '-2.00319284',\n",
       " '3.23280977',\n",
       " '-0.03060698',\n",
       " '3.95386066',\n",
       " '-2.40655784\\n',\n",
       " '-2.74667312',\n",
       " '0.21338178',\n",
       " '-0.7984649',\n",
       " '-4.06844604',\n",
       " '-1.90692024']"
      ]
     },
     "metadata": {},
     "execution_count": 28
    }
   ],
   "source": [
    "list(set(df[\"genes_w\"][0].split(' ')[1:-1]))[1:]"
   ]
  },
  {
   "cell_type": "code",
   "execution_count": 29,
   "metadata": {},
   "outputs": [],
   "source": [
    "genes_w = df[\"genes_w\"][0].strip('][').split(' ')\n",
    "genes_w = [float(gene) for gene in genes_w if gene != '']\n",
    "genes_w = np.array(genes_w)"
   ]
  },
  {
   "cell_type": "code",
   "execution_count": 30,
   "metadata": {},
   "outputs": [
    {
     "output_type": "execute_result",
     "data": {
      "text/plain": [
       "array([ 3.10715524,  1.63376082, -2.73257865,  0.99282799, -5.07757812,\n",
       "        2.15973078, -1.90692024, -4.23200112, -1.81924039, -3.92034062,\n",
       "       -2.74667312,  0.71911131,  2.42698282,  0.47838877, -0.7984649 ,\n",
       "       -1.64056273, -3.71021089,  3.98508573, -1.72917774, -0.65359494,\n",
       "        3.08196966, -3.02703191, -3.03297223, -2.40655784, -0.03060698,\n",
       "        0.19997398,  3.23280977,  1.0397774 ,  0.21338178, -0.37262235,\n",
       "       -1.99505668,  1.20432757,  2.68202962,  1.18136973, -1.57506799,\n",
       "        2.32502087,  0.63014413, -4.06844604,  2.80331334, -0.39448572,\n",
       "        0.99721721, -0.82735359, -2.00319284, -0.87400215,  2.05026588,\n",
       "       -0.61726443,  3.95386066,  3.47232412])"
      ]
     },
     "metadata": {},
     "execution_count": 30
    }
   ],
   "source": [
    "genes_w"
   ]
  },
  {
   "cell_type": "code",
   "execution_count": 31,
   "metadata": {},
   "outputs": [
    {
     "output_type": "execute_result",
     "data": {
      "text/plain": [
       "array([ 1.40995938,  1.05877846,  0.98327418, -0.05042408,  3.38029791,\n",
       "        0.16141868, -3.71533892, -2.08260078])"
      ]
     },
     "metadata": {},
     "execution_count": 31
    }
   ],
   "source": [
    "genes_b = df[\"genes_b\"][0].strip('][').split(' ')\n",
    "genes_b = [float(gene) for gene in genes_b if gene != '']\n",
    "genes_b = np.array(genes_b)\n",
    "genes_b"
   ]
  }
 ]
}