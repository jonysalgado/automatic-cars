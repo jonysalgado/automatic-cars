{
 "cells": [
  {
   "cell_type": "code",
   "execution_count": 99,
   "id": "23156c41",
   "metadata": {},
   "outputs": [
    {
     "data": {
      "text/plain": [
       "['best_players_27_May_2021_13_52_48.csv',\n",
       " 'best_players_27_May_2021_14_00_29.csv',\n",
       " 'best_players_27_May_2021_14_20_47.csv',\n",
       " 'best_players_27_May_2021_15_00_00.csv',\n",
       " 'best_players_27_May_2021_16_21_48.csv']"
      ]
     },
     "execution_count": 99,
     "metadata": {},
     "output_type": "execute_result"
    }
   ],
   "source": [
    "import os\n",
    "PATH = \"\\\\Users\\\\Jony\\\\Jupyter_files\\\\automatic-cars\"\n",
    "list_csv = os.listdir(PATH)\n",
    "csvs = [file for file in list_csv if '.csv' in file]\n",
    "csvs"
   ]
  },
  {
   "cell_type": "code",
   "execution_count": 100,
   "id": "eb0294c0",
   "metadata": {},
   "outputs": [],
   "source": [
    "import pandas as pd\n",
    "import numpy as np\n",
    "players = pd.read_csv(PATH + '\\\\' + csvs[len(csvs) -1])"
   ]
  },
  {
   "cell_type": "code",
   "execution_count": 101,
   "id": "db118b04",
   "metadata": {},
   "outputs": [
    {
     "data": {
      "text/html": [
       "<div>\n",
       "<style scoped>\n",
       "    .dataframe tbody tr th:only-of-type {\n",
       "        vertical-align: middle;\n",
       "    }\n",
       "\n",
       "    .dataframe tbody tr th {\n",
       "        vertical-align: top;\n",
       "    }\n",
       "\n",
       "    .dataframe thead th {\n",
       "        text-align: right;\n",
       "    }\n",
       "</style>\n",
       "<table border=\"1\" class=\"dataframe\">\n",
       "  <thead>\n",
       "    <tr style=\"text-align: right;\">\n",
       "      <th></th>\n",
       "      <th>Unnamed: 0</th>\n",
       "      <th>genes_w</th>\n",
       "      <th>genes_b</th>\n",
       "    </tr>\n",
       "  </thead>\n",
       "  <tbody>\n",
       "    <tr>\n",
       "      <th>0</th>\n",
       "      <td>0</td>\n",
       "      <td>[-0.3737093   2.05076451  0.34360804 -0.014392...</td>\n",
       "      <td>[ 1.10254524 -1.77008788 -1.01308125  1.493301...</td>\n",
       "    </tr>\n",
       "    <tr>\n",
       "      <th>1</th>\n",
       "      <td>1</td>\n",
       "      <td>[-0.3737093   2.05076451  0.34360804 -0.014392...</td>\n",
       "      <td>[ 1.10254524 -1.77008788 -1.01308125  1.493301...</td>\n",
       "    </tr>\n",
       "    <tr>\n",
       "      <th>2</th>\n",
       "      <td>2</td>\n",
       "      <td>[-0.3737093   2.05076451  0.34360804 -0.014392...</td>\n",
       "      <td>[ 1.10254524 -1.77008788 -1.01308125  1.493301...</td>\n",
       "    </tr>\n",
       "    <tr>\n",
       "      <th>3</th>\n",
       "      <td>3</td>\n",
       "      <td>[-0.3737093   2.05076451  0.34360804 -0.014392...</td>\n",
       "      <td>[ 1.10254524 -0.8897105  -1.01308125  1.493301...</td>\n",
       "    </tr>\n",
       "    <tr>\n",
       "      <th>4</th>\n",
       "      <td>4</td>\n",
       "      <td>[-0.3737093   2.05076451  0.34360804 -0.014392...</td>\n",
       "      <td>[ 1.10254524 -1.77008788 -1.01308125  1.493301...</td>\n",
       "    </tr>\n",
       "  </tbody>\n",
       "</table>\n",
       "</div>"
      ],
      "text/plain": [
       "   Unnamed: 0                                            genes_w  \\\n",
       "0           0  [-0.3737093   2.05076451  0.34360804 -0.014392...   \n",
       "1           1  [-0.3737093   2.05076451  0.34360804 -0.014392...   \n",
       "2           2  [-0.3737093   2.05076451  0.34360804 -0.014392...   \n",
       "3           3  [-0.3737093   2.05076451  0.34360804 -0.014392...   \n",
       "4           4  [-0.3737093   2.05076451  0.34360804 -0.014392...   \n",
       "\n",
       "                                             genes_b  \n",
       "0  [ 1.10254524 -1.77008788 -1.01308125  1.493301...  \n",
       "1  [ 1.10254524 -1.77008788 -1.01308125  1.493301...  \n",
       "2  [ 1.10254524 -1.77008788 -1.01308125  1.493301...  \n",
       "3  [ 1.10254524 -0.8897105  -1.01308125  1.493301...  \n",
       "4  [ 1.10254524 -1.77008788 -1.01308125  1.493301...  "
      ]
     },
     "execution_count": 101,
     "metadata": {},
     "output_type": "execute_result"
    }
   ],
   "source": [
    "players.head()"
   ]
  },
  {
   "cell_type": "code",
   "execution_count": 102,
   "id": "b1b9ced8",
   "metadata": {},
   "outputs": [],
   "source": [
    "genes_w = players[\"genes_w\"][0]\n",
    "genes_w = genes_w.strip('][').split(' ')\n",
    "genes_w = [float(gene) for gene in genes_w if gene != '']\n",
    "genes_w = np.array(genes_w)"
   ]
  },
  {
   "cell_type": "code",
   "execution_count": 103,
   "id": "6a28bcea",
   "metadata": {},
   "outputs": [
    {
     "data": {
      "text/plain": [
       "array([-0.3737093 ,  2.05076451,  0.34360804, -0.01439232,  0.12475023,\n",
       "        2.36173563,  0.9567638 , -0.07060088, -0.26804999,  0.80636939,\n",
       "       -0.51061407, -1.15837572, -2.41987561, -0.45356091,  1.26155667,\n",
       "        2.13280924, -0.176625  ,  1.05440481, -1.72528103,  0.0458593 ,\n",
       "        1.31338727, -1.53469992, -0.25494238,  0.29528354,  1.75603439,\n",
       "       -0.12037221,  0.12670152,  1.02055893,  1.35416471,  0.4894191 ,\n",
       "        0.87804143,  1.92501669,  0.27862662,  0.697445  , -1.88302645,\n",
       "        0.61042605, -0.34945459, -0.06517498,  1.11173952,  1.26193502,\n",
       "        0.48644811,  1.57805366, -1.07289571,  1.48250058, -1.13972923,\n",
       "       -0.8561982 , -0.7950442 ,  0.05853423,  1.08881618,  0.76280921,\n",
       "        1.31231312, -0.64473911, -0.28166095,  0.59724285, -1.43770056,\n",
       "        1.28365855, -0.8616143 , -0.85355963,  1.74366048, -1.80725811,\n",
       "        0.31152531, -0.76994935, -1.5142528 , -0.25171452,  0.09210259,\n",
       "       -0.85588951,  0.25767913,  1.66730892,  0.27400595,  0.2629371 ,\n",
       "       -0.37819896,  0.97482144])"
      ]
     },
     "execution_count": 103,
     "metadata": {},
     "output_type": "execute_result"
    }
   ],
   "source": [
    "genes_w"
   ]
  },
  {
   "cell_type": "code",
   "execution_count": 104,
   "id": "fb4a15ac",
   "metadata": {},
   "outputs": [
    {
     "data": {
      "text/plain": [
       "0.18878692111111114"
      ]
     },
     "execution_count": 104,
     "metadata": {},
     "output_type": "execute_result"
    }
   ],
   "source": [
    "genes_w.mean()"
   ]
  }
 ],
 "metadata": {
  "kernelspec": {
   "display_name": "Python 3",
   "language": "python",
   "name": "python3"
  },
  "language_info": {
   "codemirror_mode": {
    "name": "ipython",
    "version": 3
   },
   "file_extension": ".py",
   "mimetype": "text/x-python",
   "name": "python",
   "nbconvert_exporter": "python",
   "pygments_lexer": "ipython3",
   "version": "3.8.8"
  },
  "latex_envs": {
   "LaTeX_envs_menu_present": true,
   "autoclose": false,
   "autocomplete": true,
   "bibliofile": "biblio.bib",
   "cite_by": "apalike",
   "current_citInitial": 1,
   "eqLabelWithNumbers": true,
   "eqNumInitial": 1,
   "hotkeys": {
    "equation": "Ctrl-E",
    "itemize": "Ctrl-I"
   },
   "labels_anchors": false,
   "latex_user_defs": false,
   "report_style_numbering": false,
   "user_envs_cfg": false
  }
 },
 "nbformat": 4,
 "nbformat_minor": 5
}
